{
 "cells": [
  {
   "cell_type": "code",
   "execution_count": 1,
   "metadata": {},
   "outputs": [],
   "source": [
    "import numpy as np\n",
    "import matplotlib.pyplot as plt\n",
    "\n",
    "nb_samples = 100\n",
    "X_data = np.random.normal(loc = 0.0, \n",
    "                          scale = np.sqrt(2.0),\n",
    "                          size = nb_samples)"
   ]
  },
  {
   "cell_type": "code",
   "execution_count": 2,
   "metadata": {},
   "outputs": [],
   "source": [
    "def negative_log_likelihood(v):\n",
    "    l = 0.0\n",
    "    f1 = 1.0 / np.sqrt(2.0 * np.pi * v[1])\n",
    "    f2 = 2.0 * v[1]\n",
    "    \n",
    "    for x in X_data:\n",
    "        l += np.log(f1 * np.exp(-np.square(x - v[0]) / f2))\n",
    "    \n",
    "    return -l"
   ]
  },
  {
   "cell_type": "code",
   "execution_count": 3,
   "metadata": {},
   "outputs": [
    {
     "data": {
      "text/plain": [
       "      fun: 173.26550332145425\n",
       " hess_inv: array([[2.00718847e-02, 3.36401658e-05],\n",
       "       [3.36401658e-05, 7.00647199e-02]])\n",
       "      jac: array([0.00000000e+00, 3.81469727e-06])\n",
       "  message: 'Optimization terminated successfully.'\n",
       "     nfev: 30\n",
       "      nit: 8\n",
       "     njev: 10\n",
       "   status: 0\n",
       "  success: True\n",
       "        x: array([0.02425256, 1.87279723])"
      ]
     },
     "execution_count": 3,
     "metadata": {},
     "output_type": "execute_result"
    }
   ],
   "source": [
    "from scipy.optimize import minimize\n",
    "\n",
    "minimize(fun = negative_log_likelihood, \n",
    "         x0 = [0.0, 1.0])"
   ]
  }
 ],
 "metadata": {
  "kernelspec": {
   "display_name": "Python 3",
   "language": "python",
   "name": "python3"
  },
  "language_info": {
   "codemirror_mode": {
    "name": "ipython",
    "version": 3
   },
   "file_extension": ".py",
   "mimetype": "text/x-python",
   "name": "python",
   "nbconvert_exporter": "python",
   "pygments_lexer": "ipython3",
   "version": "3.10.5"
  },
  "orig_nbformat": 4
 },
 "nbformat": 4,
 "nbformat_minor": 2
}
